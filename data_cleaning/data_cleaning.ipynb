{
 "cells": [
  {
   "cell_type": "code",
   "execution_count": 3,
   "id": "d164f0c7-9d45-4dbc-be64-a888612da202",
   "metadata": {},
   "outputs": [],
   "source": [
    "import pandas as pd\n",
    "import io\n",
    "from datetime import date"
   ]
  },
  {
   "cell_type": "code",
   "execution_count": 4,
   "id": "73dc8e48-1f52-47d3-a227-da882e5a4cbf",
   "metadata": {},
   "outputs": [],
   "source": [
    "adidasDf = pd.read_csv(\"../data_sources/adidas.csv\")"
   ]
  },
  {
   "cell_type": "markdown",
   "id": "19024ee2-7981-4cd0-b3ad-7681438992a6",
   "metadata": {
    "tags": []
   },
   "source": [
    "# Inicia limpieza\n",
    "### Ejercicio 1\n",
    "\n",
    "Según el dataset de adidas, para las columnas categóricas, encontrar: *aquellas columnas que tienen mas de un nivel, y que por lo menos uno de esos niveles represente mas o igual del 98%*. Para las columnas que cumplan esa premisa, se eliminaran del array de columnas validas "
   ]
  },
  {
   "cell_type": "code",
   "execution_count": 5,
   "id": "df2f28a5-2a39-473f-b880-bb7fd7425dc2",
   "metadata": {},
   "outputs": [
    {
     "data": {
      "text/plain": [
       "url                object\n",
       "name               object\n",
       "sku                object\n",
       "selling_price       int64\n",
       "original_price     object\n",
       "currency           object\n",
       "availability       object\n",
       "color              object\n",
       "category           object\n",
       "source             object\n",
       "source_website     object\n",
       "breadcrumbs        object\n",
       "description        object\n",
       "brand              object\n",
       "images             object\n",
       "country            object\n",
       "language           object\n",
       "average_rating    float64\n",
       "reviews_count       int64\n",
       "crawled_at         object\n",
       "dtype: object"
      ]
     },
     "execution_count": 5,
     "metadata": {},
     "output_type": "execute_result"
    }
   ],
   "source": [
    "adidasDf.dtypes"
   ]
  },
  {
   "cell_type": "markdown",
   "id": "27cbe9fa-63d4-4c5c-b5e4-e7546c19e5ea",
   "metadata": {},
   "source": [
    "*Step 1: Vamos a tratar la columna de original price, para convertirla de Object a Int y a castear crawlet_at de Object a date*"
   ]
  },
  {
   "cell_type": "code",
   "execution_count": 6,
   "id": "7373acd6-af56-43c3-9176-e2311344d8df",
   "metadata": {},
   "outputs": [],
   "source": [
    "adidasDf.loc[ pd.isna(adidasDf['original_price']), ['original_price'] ] = '$0'"
   ]
  },
  {
   "cell_type": "code",
   "execution_count": 7,
   "id": "d72510ca-33b0-45dc-a87e-efe0224457e2",
   "metadata": {},
   "outputs": [],
   "source": [
    "adidasDf['original_price'] = adidasDf['original_price'].str.replace('$', '', regex=False).astype('int64')"
   ]
  },
  {
   "cell_type": "code",
   "execution_count": 8,
   "id": "e77be88b-dadb-4606-a324-a44340b8b746",
   "metadata": {},
   "outputs": [],
   "source": [
    "adidasDf['crawled_at'] = pd.to_datetime(adidasDf['crawled_at'])"
   ]
  },
  {
   "cell_type": "code",
   "execution_count": 9,
   "id": "4a59be0e-4a66-47a6-b553-adeaf5a3d34c",
   "metadata": {},
   "outputs": [
    {
     "data": {
      "text/plain": [
       "url                       object\n",
       "name                      object\n",
       "sku                       object\n",
       "selling_price              int64\n",
       "original_price             int64\n",
       "currency                  object\n",
       "availability              object\n",
       "color                     object\n",
       "category                  object\n",
       "source                    object\n",
       "source_website            object\n",
       "breadcrumbs               object\n",
       "description               object\n",
       "brand                     object\n",
       "images                    object\n",
       "country                   object\n",
       "language                  object\n",
       "average_rating           float64\n",
       "reviews_count              int64\n",
       "crawled_at        datetime64[ns]\n",
       "dtype: object"
      ]
     },
     "execution_count": 9,
     "metadata": {},
     "output_type": "execute_result"
    }
   ],
   "source": [
    "adidasDf.dtypes ## Verificamos que la columna está en int y en datetime, respectivamente"
   ]
  },
  {
   "cell_type": "markdown",
   "id": "53e82563-bcc5-4ee9-8b0d-eafd2adf5d4b",
   "metadata": {},
   "source": [
    "*Step 2: Utilizando un for, haremos el analisis de los niveles de cada columna y verificaremos si cada nivel representa menos del 98% para poder ser totalmente valida*"
   ]
  },
  {
   "cell_type": "code",
   "execution_count": 10,
   "id": "82abcde1-8250-4ceb-8c0f-8e4d1c8de5c9",
   "metadata": {},
   "outputs": [],
   "source": [
    "columnsAnalisys = [] ## Array que contendrá el resultado del ejercicio 1\n",
    "dfAnalisys = pd.DataFrame({}) ## dataFrame que contendrá la data que necesitaremos para terminar el ejercicio 2\n",
    "## Validamos que las columnas que pasen el filtro sean únicamente las que tengan más de 1 nivel\n",
    "## A partir de ahí iniciamos el analisis de la representatividad en la data de cada nivel\n",
    "for c_ in adidasDf.select_dtypes(['object']).columns:\n",
    "    val = adidasDf.loc[ :, c_ ].drop_duplicates()\n",
    "    if val.shape[0] > 1:\n",
    "        dfTmp = adidasDf.groupby(c_, as_index = False).agg({'sku': ['count']})\n",
    "        dfTmp.columns = dfTmp.columns.droplevel(1)\n",
    "        if (val.shape[0] >= 3) & (val.shape[0] <= 6): ## Condición que nos sirve para capturar la data necesaria para el ejercicio 2\n",
    "            dfAnalisys = dfTmp.loc[ :, [c_, 'sku'] ]\n",
    "        dfTmp['porcentage'] = dfTmp.apply(lambda r: ((r['sku'])/adidasDf.shape[0])*100, axis = 1)\n",
    "        valR = dfTmp.loc[ dfTmp['porcentage'] >= 98, : ].shape[0]\n",
    "        if valR == 0:\n",
    "            columnsAnalisys.append(c_)"
   ]
  },
  {
   "cell_type": "code",
   "execution_count": 11,
   "id": "d38414a0-8272-4b07-8f5c-e8256cee3179",
   "metadata": {},
   "outputs": [
    {
     "data": {
      "text/plain": [
       "['url',\n",
       " 'name',\n",
       " 'sku',\n",
       " 'color',\n",
       " 'category',\n",
       " 'breadcrumbs',\n",
       " 'description',\n",
       " 'images']"
      ]
     },
     "execution_count": 11,
     "metadata": {},
     "output_type": "execute_result"
    }
   ],
   "source": [
    "columnsAnalisys"
   ]
  },
  {
   "cell_type": "markdown",
   "id": "c5f09ff1-aad4-428f-94d6-6aa10432405c",
   "metadata": {},
   "source": [
    "### Ejercicio 2\n",
    "\n",
    "Según el dataset de adidas, para las columnas categóricas, encontrar aquellas columnas que tengan entre 3-6 niveles. *Al nivel con la frecuencia mas baja lo vamos a remplazar por la palabra Others*, una vez ya tenga esa regla aplicarla al dataset original, tal cual como se hizo con el ejercicio hecho en clases."
   ]
  },
  {
   "cell_type": "markdown",
   "id": "bc138797-e615-4e10-b8df-ba11d95e0e84",
   "metadata": {},
   "source": [
    "*Step 1: Ordenamos y revisamos el resultado almacenado en el dataframe*"
   ]
  },
  {
   "cell_type": "code",
   "execution_count": 12,
   "id": "5f86b41e-a698-4e60-8cfa-ac9b37204194",
   "metadata": {},
   "outputs": [],
   "source": [
    "dfAnalisys.columns = ['category', 'frecuencia']"
   ]
  },
  {
   "cell_type": "code",
   "execution_count": 13,
   "id": "6dfa6e79-92af-4cb6-a4ea-5a538156ec45",
   "metadata": {},
   "outputs": [],
   "source": [
    "dfAnalisys = dfAnalisys.sort_values('frecuencia', ascending = False)"
   ]
  },
  {
   "cell_type": "markdown",
   "id": "a701c321-79f3-4999-82d2-e49c23e50993",
   "metadata": {},
   "source": [
    "*Step 2: Creamos la nueva columna y le damos el valor de categoria* \\\n",
    "Obtenemos el valor minimo en la columna frecuencia y condicionamos al que tenga ese valor para que la nueva columa tengo el valor *Others*"
   ]
  },
  {
   "cell_type": "code",
   "execution_count": 14,
   "id": "07aa9d9f-a92f-418b-ad1c-37314b8d3088",
   "metadata": {},
   "outputs": [],
   "source": [
    "dfAnalisys['new_category'] = dfAnalisys['category']"
   ]
  },
  {
   "cell_type": "code",
   "execution_count": 15,
   "id": "60f1b95e-11b1-4f32-b68a-78cc752262d4",
   "metadata": {},
   "outputs": [],
   "source": [
    "min = dfAnalisys['frecuencia'].min()"
   ]
  },
  {
   "cell_type": "code",
   "execution_count": 16,
   "id": "110fe885-13d9-4276-9bd0-6bac68d64080",
   "metadata": {},
   "outputs": [],
   "source": [
    "dfAnalisys.loc[ dfAnalisys['frecuencia'] == min, 'new_category' ] = 'Others' "
   ]
  },
  {
   "cell_type": "code",
   "execution_count": 17,
   "id": "878e14b2-3ccb-4921-836a-b34b0a480d12",
   "metadata": {},
   "outputs": [],
   "source": [
    "dfAnalisys = dfAnalisys.loc[:, ['category', 'new_category']]"
   ]
  },
  {
   "cell_type": "code",
   "execution_count": 18,
   "id": "76ba0139-b905-4812-a543-bc8adf01a751",
   "metadata": {},
   "outputs": [
    {
     "data": {
      "text/html": [
       "<div>\n",
       "<style scoped>\n",
       "    .dataframe tbody tr th:only-of-type {\n",
       "        vertical-align: middle;\n",
       "    }\n",
       "\n",
       "    .dataframe tbody tr th {\n",
       "        vertical-align: top;\n",
       "    }\n",
       "\n",
       "    .dataframe thead th {\n",
       "        text-align: right;\n",
       "    }\n",
       "</style>\n",
       "<table border=\"1\" class=\"dataframe\">\n",
       "  <thead>\n",
       "    <tr style=\"text-align: right;\">\n",
       "      <th></th>\n",
       "      <th>category</th>\n",
       "      <th>new_category</th>\n",
       "    </tr>\n",
       "  </thead>\n",
       "  <tbody>\n",
       "    <tr>\n",
       "      <th>2</th>\n",
       "      <td>Shoes</td>\n",
       "      <td>Shoes</td>\n",
       "    </tr>\n",
       "    <tr>\n",
       "      <th>1</th>\n",
       "      <td>Clothing</td>\n",
       "      <td>Clothing</td>\n",
       "    </tr>\n",
       "    <tr>\n",
       "      <th>0</th>\n",
       "      <td>Accessories</td>\n",
       "      <td>Others</td>\n",
       "    </tr>\n",
       "  </tbody>\n",
       "</table>\n",
       "</div>"
      ],
      "text/plain": [
       "      category new_category\n",
       "2        Shoes        Shoes\n",
       "1     Clothing     Clothing\n",
       "0  Accessories       Others"
      ]
     },
     "execution_count": 18,
     "metadata": {},
     "output_type": "execute_result"
    }
   ],
   "source": [
    "dfAnalisys"
   ]
  },
  {
   "cell_type": "code",
   "execution_count": 19,
   "id": "e13af289-d6a4-428f-b5e3-97812dc0ebe3",
   "metadata": {},
   "outputs": [],
   "source": [
    "adidasDf = adidasDf.merge( dfAnalisys, on = \"category\", how = \"left\" )"
   ]
  },
  {
   "cell_type": "code",
   "execution_count": 20,
   "id": "e1b81229-1628-4ffd-b4f6-85728fe69026",
   "metadata": {},
   "outputs": [
    {
     "data": {
      "text/html": [
       "<div>\n",
       "<style scoped>\n",
       "    .dataframe tbody tr th:only-of-type {\n",
       "        vertical-align: middle;\n",
       "    }\n",
       "\n",
       "    .dataframe tbody tr th {\n",
       "        vertical-align: top;\n",
       "    }\n",
       "\n",
       "    .dataframe thead th {\n",
       "        text-align: right;\n",
       "    }\n",
       "</style>\n",
       "<table border=\"1\" class=\"dataframe\">\n",
       "  <thead>\n",
       "    <tr style=\"text-align: right;\">\n",
       "      <th></th>\n",
       "      <th>url</th>\n",
       "      <th>name</th>\n",
       "      <th>sku</th>\n",
       "      <th>selling_price</th>\n",
       "      <th>original_price</th>\n",
       "      <th>currency</th>\n",
       "      <th>availability</th>\n",
       "      <th>color</th>\n",
       "      <th>category</th>\n",
       "      <th>source</th>\n",
       "      <th>...</th>\n",
       "      <th>breadcrumbs</th>\n",
       "      <th>description</th>\n",
       "      <th>brand</th>\n",
       "      <th>images</th>\n",
       "      <th>country</th>\n",
       "      <th>language</th>\n",
       "      <th>average_rating</th>\n",
       "      <th>reviews_count</th>\n",
       "      <th>crawled_at</th>\n",
       "      <th>new_category</th>\n",
       "    </tr>\n",
       "  </thead>\n",
       "  <tbody>\n",
       "    <tr>\n",
       "      <th>0</th>\n",
       "      <td>https://www.adidas.com/us/beach-shorts/FJ5089....</td>\n",
       "      <td>Beach Shorts</td>\n",
       "      <td>FJ5089</td>\n",
       "      <td>40</td>\n",
       "      <td>0</td>\n",
       "      <td>USD</td>\n",
       "      <td>InStock</td>\n",
       "      <td>Black</td>\n",
       "      <td>Clothing</td>\n",
       "      <td>adidas United States</td>\n",
       "      <td>...</td>\n",
       "      <td>Women/Clothing</td>\n",
       "      <td>Splashing in the surf. Making memories with yo...</td>\n",
       "      <td>adidas</td>\n",
       "      <td>https://assets.adidas.com/images/w_600,f_auto,...</td>\n",
       "      <td>USA</td>\n",
       "      <td>en</td>\n",
       "      <td>4.5</td>\n",
       "      <td>35</td>\n",
       "      <td>2021-10-23 17:50:17.331255</td>\n",
       "      <td>Clothing</td>\n",
       "    </tr>\n",
       "    <tr>\n",
       "      <th>1</th>\n",
       "      <td>https://www.adidas.com/us/five-ten-kestrel-lac...</td>\n",
       "      <td>Five Ten Kestrel Lace Mountain Bike Shoes</td>\n",
       "      <td>BC0770</td>\n",
       "      <td>150</td>\n",
       "      <td>0</td>\n",
       "      <td>USD</td>\n",
       "      <td>InStock</td>\n",
       "      <td>Grey</td>\n",
       "      <td>Shoes</td>\n",
       "      <td>adidas United States</td>\n",
       "      <td>...</td>\n",
       "      <td>Women/Shoes</td>\n",
       "      <td>Lace up and get after it. The Five Ten Kestrel...</td>\n",
       "      <td>adidas</td>\n",
       "      <td>https://assets.adidas.com/images/w_600,f_auto,...</td>\n",
       "      <td>USA</td>\n",
       "      <td>en</td>\n",
       "      <td>4.8</td>\n",
       "      <td>4</td>\n",
       "      <td>2021-10-23 17:50:17.423830</td>\n",
       "      <td>Shoes</td>\n",
       "    </tr>\n",
       "    <tr>\n",
       "      <th>2</th>\n",
       "      <td>https://www.adidas.com/us/mexico-away-jersey/G...</td>\n",
       "      <td>Mexico Away Jersey</td>\n",
       "      <td>GC7946</td>\n",
       "      <td>70</td>\n",
       "      <td>0</td>\n",
       "      <td>USD</td>\n",
       "      <td>InStock</td>\n",
       "      <td>White</td>\n",
       "      <td>Clothing</td>\n",
       "      <td>adidas United States</td>\n",
       "      <td>...</td>\n",
       "      <td>Kids/Clothing</td>\n",
       "      <td>Clean and crisp, this adidas Mexico Away Jerse...</td>\n",
       "      <td>adidas</td>\n",
       "      <td>https://assets.adidas.com/images/w_600,f_auto,...</td>\n",
       "      <td>USA</td>\n",
       "      <td>en</td>\n",
       "      <td>4.9</td>\n",
       "      <td>42</td>\n",
       "      <td>2021-10-23 17:50:17.530834</td>\n",
       "      <td>Clothing</td>\n",
       "    </tr>\n",
       "    <tr>\n",
       "      <th>3</th>\n",
       "      <td>https://www.adidas.com/us/five-ten-hiangle-pro...</td>\n",
       "      <td>Five Ten Hiangle Pro Competition Climbing Shoes</td>\n",
       "      <td>FV4744</td>\n",
       "      <td>160</td>\n",
       "      <td>0</td>\n",
       "      <td>USD</td>\n",
       "      <td>InStock</td>\n",
       "      <td>Black</td>\n",
       "      <td>Shoes</td>\n",
       "      <td>adidas United States</td>\n",
       "      <td>...</td>\n",
       "      <td>Five Ten/Shoes</td>\n",
       "      <td>The Hiangle Pro takes on the classic shape of ...</td>\n",
       "      <td>adidas</td>\n",
       "      <td>https://assets.adidas.com/images/w_600,f_auto,...</td>\n",
       "      <td>USA</td>\n",
       "      <td>en</td>\n",
       "      <td>3.7</td>\n",
       "      <td>7</td>\n",
       "      <td>2021-10-23 17:50:17.615054</td>\n",
       "      <td>Shoes</td>\n",
       "    </tr>\n",
       "    <tr>\n",
       "      <th>4</th>\n",
       "      <td>https://www.adidas.com/us/mesh-broken-stripe-p...</td>\n",
       "      <td>Mesh Broken-Stripe Polo Shirt</td>\n",
       "      <td>GM0239</td>\n",
       "      <td>65</td>\n",
       "      <td>0</td>\n",
       "      <td>USD</td>\n",
       "      <td>InStock</td>\n",
       "      <td>Blue</td>\n",
       "      <td>Clothing</td>\n",
       "      <td>adidas United States</td>\n",
       "      <td>...</td>\n",
       "      <td>Men/Clothing</td>\n",
       "      <td>Step up to the tee relaxed. This adidas golf p...</td>\n",
       "      <td>adidas</td>\n",
       "      <td>https://assets.adidas.com/images/w_600,f_auto,...</td>\n",
       "      <td>USA</td>\n",
       "      <td>en</td>\n",
       "      <td>4.7</td>\n",
       "      <td>11</td>\n",
       "      <td>2021-10-23 17:50:17.702680</td>\n",
       "      <td>Clothing</td>\n",
       "    </tr>\n",
       "  </tbody>\n",
       "</table>\n",
       "<p>5 rows × 21 columns</p>\n",
       "</div>"
      ],
      "text/plain": [
       "                                                 url  \\\n",
       "0  https://www.adidas.com/us/beach-shorts/FJ5089....   \n",
       "1  https://www.adidas.com/us/five-ten-kestrel-lac...   \n",
       "2  https://www.adidas.com/us/mexico-away-jersey/G...   \n",
       "3  https://www.adidas.com/us/five-ten-hiangle-pro...   \n",
       "4  https://www.adidas.com/us/mesh-broken-stripe-p...   \n",
       "\n",
       "                                              name     sku  selling_price  \\\n",
       "0                                     Beach Shorts  FJ5089             40   \n",
       "1        Five Ten Kestrel Lace Mountain Bike Shoes  BC0770            150   \n",
       "2                               Mexico Away Jersey  GC7946             70   \n",
       "3  Five Ten Hiangle Pro Competition Climbing Shoes  FV4744            160   \n",
       "4                    Mesh Broken-Stripe Polo Shirt  GM0239             65   \n",
       "\n",
       "   original_price currency availability  color  category  \\\n",
       "0               0      USD      InStock  Black  Clothing   \n",
       "1               0      USD      InStock   Grey     Shoes   \n",
       "2               0      USD      InStock  White  Clothing   \n",
       "3               0      USD      InStock  Black     Shoes   \n",
       "4               0      USD      InStock   Blue  Clothing   \n",
       "\n",
       "                 source  ...     breadcrumbs  \\\n",
       "0  adidas United States  ...  Women/Clothing   \n",
       "1  adidas United States  ...     Women/Shoes   \n",
       "2  adidas United States  ...   Kids/Clothing   \n",
       "3  adidas United States  ...  Five Ten/Shoes   \n",
       "4  adidas United States  ...    Men/Clothing   \n",
       "\n",
       "                                         description   brand  \\\n",
       "0  Splashing in the surf. Making memories with yo...  adidas   \n",
       "1  Lace up and get after it. The Five Ten Kestrel...  adidas   \n",
       "2  Clean and crisp, this adidas Mexico Away Jerse...  adidas   \n",
       "3  The Hiangle Pro takes on the classic shape of ...  adidas   \n",
       "4  Step up to the tee relaxed. This adidas golf p...  adidas   \n",
       "\n",
       "                                              images country language  \\\n",
       "0  https://assets.adidas.com/images/w_600,f_auto,...     USA       en   \n",
       "1  https://assets.adidas.com/images/w_600,f_auto,...     USA       en   \n",
       "2  https://assets.adidas.com/images/w_600,f_auto,...     USA       en   \n",
       "3  https://assets.adidas.com/images/w_600,f_auto,...     USA       en   \n",
       "4  https://assets.adidas.com/images/w_600,f_auto,...     USA       en   \n",
       "\n",
       "  average_rating  reviews_count                 crawled_at new_category  \n",
       "0            4.5             35 2021-10-23 17:50:17.331255     Clothing  \n",
       "1            4.8              4 2021-10-23 17:50:17.423830        Shoes  \n",
       "2            4.9             42 2021-10-23 17:50:17.530834     Clothing  \n",
       "3            3.7              7 2021-10-23 17:50:17.615054        Shoes  \n",
       "4            4.7             11 2021-10-23 17:50:17.702680     Clothing  \n",
       "\n",
       "[5 rows x 21 columns]"
      ]
     },
     "execution_count": 20,
     "metadata": {},
     "output_type": "execute_result"
    }
   ],
   "source": [
    "adidasDf.head()"
   ]
  },
  {
   "cell_type": "code",
   "execution_count": null,
   "id": "929077f2-ca87-42c0-a401-d2b4ad38a803",
   "metadata": {},
   "outputs": [],
   "source": []
  }
 ],
 "metadata": {
  "kernelspec": {
   "display_name": "Python 3 (ipykernel)",
   "language": "python",
   "name": "python3"
  },
  "language_info": {
   "codemirror_mode": {
    "name": "ipython",
    "version": 3
   },
   "file_extension": ".py",
   "mimetype": "text/x-python",
   "name": "python",
   "nbconvert_exporter": "python",
   "pygments_lexer": "ipython3",
   "version": "3.9.12"
  }
 },
 "nbformat": 4,
 "nbformat_minor": 5
}
